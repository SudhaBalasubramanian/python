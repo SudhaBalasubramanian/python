{
 "cells": [
  {
   "cell_type": "code",
   "execution_count": 2,
   "id": "e5acd588",
   "metadata": {},
   "outputs": [
    {
     "name": "stdout",
     "output_type": "stream",
     "text": [
      "This is a sample txt file\n",
      "created to read and write the file contents\n"
     ]
    }
   ],
   "source": [
    "with open('examples.txt', 'r') as file:\n",
    "    for line in file:\n",
    "        print(line.strip())"
   ]
  },
  {
   "cell_type": "code",
   "execution_count": 5,
   "id": "6ad6f2d8",
   "metadata": {},
   "outputs": [],
   "source": [
    "with open(\"examples.txt\", 'w') as file:\n",
    "    file.write(\"overwriting file contents\")"
   ]
  },
  {
   "cell_type": "code",
   "execution_count": 7,
   "id": "d0986d24",
   "metadata": {},
   "outputs": [],
   "source": [
    "with open(\"examples.txt\", 'a') as file:\n",
    "    file.write(\"\\nNewly appended line\")"
   ]
  },
  {
   "cell_type": "markdown",
   "id": "fd91e2c4",
   "metadata": {},
   "source": [
    "Read the file and count the no. of lines, words"
   ]
  },
  {
   "cell_type": "code",
   "execution_count": 15,
   "id": "fe6a9f49",
   "metadata": {},
   "outputs": [
    {
     "name": "stdout",
     "output_type": "stream",
     "text": [
      "No. of lines in the txt file 2\n",
      "No. of words in the txt file 6\n"
     ]
    }
   ],
   "source": [
    "def count_words_text_file(filename):\n",
    "    with open(filename, \"r\") as file:\n",
    "        lines = file.readlines()\n",
    "        line_count = len(lines)\n",
    "        word_count = sum(len(line.split()) for line in lines)\n",
    "    return line_count, word_count\n",
    "\n",
    "line_count, word_count = count_words_text_file(\"examples.txt\")\n",
    "print(f\"No. of lines in the txt file {line_count}\")\n",
    "print(f\"No. of words in the txt file {word_count}\")\n",
    "\n"
   ]
  },
  {
   "cell_type": "markdown",
   "id": "2ec3d9fd",
   "metadata": {},
   "source": [
    "write and read the file"
   ]
  },
  {
   "cell_type": "code",
   "execution_count": 1,
   "id": "660d744d",
   "metadata": {},
   "outputs": [
    {
     "name": "stdout",
     "output_type": "stream",
     "text": [
      "This is a second txt file\n",
      "this will be created\n"
     ]
    }
   ],
   "source": [
    "with open(\"writeexample.txt\", \"w+\") as file:\n",
    "    file.write(\"This is a second txt file\\n\")\n",
    "    file.write(\"this will be created\")\n",
    "\n",
    "    file.seek(0)\n",
    "\n",
    "    content = file.read()\n",
    "    print(content)"
   ]
  },
  {
   "cell_type": "code",
   "execution_count": 2,
   "id": "03c17a58",
   "metadata": {},
   "outputs": [
    {
     "name": "stdout",
     "output_type": "stream",
     "text": [
      "c:\\Users\\ganes\\Desktop\\QA\\DataScience_2025\\Python\\Basics\n"
     ]
    }
   ],
   "source": [
    "import os\n",
    "print(os.getcwd())"
   ]
  },
  {
   "cell_type": "code",
   "execution_count": 19,
   "id": "e934d4f0",
   "metadata": {},
   "outputs": [
    {
     "name": "stdout",
     "output_type": "stream",
     "text": [
      "c:\\Users\\ganes\\Desktop\\QA\\DataScience_2025\\Python\\Basics\\folders\\sample.txt\n"
     ]
    }
   ],
   "source": [
    "dir_name = \"folders\"\n",
    "file_name = \"sample.txt\"\n",
    "\n",
    "print(os.path.join(os.getcwd(), dir_name, file_name))"
   ]
  }
 ],
 "metadata": {
  "kernelspec": {
   "display_name": "Python 3",
   "language": "python",
   "name": "python3"
  },
  "language_info": {
   "codemirror_mode": {
    "name": "ipython",
    "version": 3
   },
   "file_extension": ".py",
   "mimetype": "text/x-python",
   "name": "python",
   "nbconvert_exporter": "python",
   "pygments_lexer": "ipython3",
   "version": "3.12.0"
  }
 },
 "nbformat": 4,
 "nbformat_minor": 5
}
