{
 "cells": [
  {
   "cell_type": "markdown",
   "id": "bd447be1",
   "metadata": {},
   "source": [
    "Import the `math` module and use it to calculate the square root of 25 and the sine of 90 degrees."
   ]
  },
  {
   "cell_type": "code",
   "execution_count": 3,
   "id": "ce2db378",
   "metadata": {},
   "outputs": [
    {
     "name": "stdout",
     "output_type": "stream",
     "text": [
      "5.0\n",
      "1.0\n"
     ]
    }
   ],
   "source": [
    "import math\n",
    "\n",
    "print(math.sqrt(25))\n",
    "print(math.sin(math.radians(90)))"
   ]
  },
  {
   "cell_type": "markdown",
   "id": "f85c128e",
   "metadata": {},
   "source": [
    "Import the `datetime` module with an alias and use it to print the current date and time."
   ]
  },
  {
   "cell_type": "code",
   "execution_count": 4,
   "id": "46fefa90",
   "metadata": {},
   "outputs": [
    {
     "name": "stdout",
     "output_type": "stream",
     "text": [
      "2025-06-23 14:26:19.839451\n"
     ]
    }
   ],
   "source": [
    "import datetime as dt\n",
    "\n",
    "print(dt.datetime.now())"
   ]
  },
  {
   "cell_type": "markdown",
   "id": "be0b57a4",
   "metadata": {},
   "source": [
    "Use the `datetime` module to print the current date, calculate the date 100 days from today, and determine the day of the week for a given date."
   ]
  },
  {
   "cell_type": "code",
   "execution_count": 18,
   "id": "49e68516",
   "metadata": {},
   "outputs": [
    {
     "name": "stdout",
     "output_type": "stream",
     "text": [
      "Today's date is 2025-06-23\n",
      "future date 2025-10-01\n",
      "Monday\n"
     ]
    }
   ],
   "source": [
    "import datetime\n",
    "\n",
    "today = datetime.date.today()\n",
    "\n",
    "print(f\"Today's date is {today}\")\n",
    "\n",
    "future_date = today + datetime.timedelta(days=100)\n",
    "print(f\"future date {future_date}\")\n",
    "\n",
    "date = datetime.date(2025, 6, 23)\n",
    "print(date.strftime('%A'))"
   ]
  },
  {
   "cell_type": "markdown",
   "id": "d034dcb3",
   "metadata": {},
   "source": [
    "Import the `randint` function from the `random` module and use it to generate a random integer between 1 and 100."
   ]
  },
  {
   "cell_type": "code",
   "execution_count": 6,
   "id": "528c8f59",
   "metadata": {},
   "outputs": [
    {
     "name": "stdout",
     "output_type": "stream",
     "text": [
      "54\n"
     ]
    }
   ],
   "source": [
    "from random import randint\n",
    "\n",
    "print(randint(1,100))"
   ]
  },
  {
   "cell_type": "markdown",
   "id": "683fe652",
   "metadata": {},
   "source": [
    "Import the `sqrt` and `pow` functions from the `math` module and use them to calculate the square root of 16 and 2 raised to the power of 3."
   ]
  },
  {
   "cell_type": "code",
   "execution_count": 7,
   "id": "4b529f48",
   "metadata": {},
   "outputs": [
    {
     "name": "stdout",
     "output_type": "stream",
     "text": [
      "4.0\n",
      "8.0\n"
     ]
    }
   ],
   "source": [
    "import math\n",
    "\n",
    "print(math.sqrt(16))\n",
    "print(math.pow(2,3))"
   ]
  },
  {
   "cell_type": "markdown",
   "id": "8f9b8242",
   "metadata": {},
   "source": [
    "Use the `os` module to create a new directory, list the contents of the current directory, and remove the newly created directory."
   ]
  },
  {
   "cell_type": "code",
   "execution_count": 8,
   "id": "e629f912",
   "metadata": {},
   "outputs": [
    {
     "name": "stdout",
     "output_type": "stream",
     "text": [
      "['1-DataTypes.ipynb', '2-ControlFlow.ipynb', '3-List.ipynb', '4-Set.ipynb', '5-Dictionaries.ipynb', '6-AdvancedFunctions.ipynb', '7-Packages.ipynb', 'new_directory']\n",
      "['1-DataTypes.ipynb', '2-ControlFlow.ipynb', '3-List.ipynb', '4-Set.ipynb', '5-Dictionaries.ipynb', '6-AdvancedFunctions.ipynb', '7-Packages.ipynb']\n"
     ]
    }
   ],
   "source": [
    "import os\n",
    "\n",
    "os.mkdir('new_directory')\n",
    "\n",
    "print(os.listdir('.'))\n",
    "\n",
    "os.removedirs('new_directory')\n",
    "print(os.listdir('.'))"
   ]
  },
  {
   "cell_type": "markdown",
   "id": "60a7ee51",
   "metadata": {},
   "source": [
    "Create a package named `mypackage` with two modules: `module1` and `module2`. `module1` should contain a function that adds two numbers, and `module2` should contain a function that multiplies two numbers. Write code to use these functions."
   ]
  },
  {
   "cell_type": "code",
   "execution_count": null,
   "id": "b4d0116a",
   "metadata": {},
   "outputs": [
    {
     "data": {
      "text/plain": [
       "5"
      ]
     },
     "execution_count": 57,
     "metadata": {},
     "output_type": "execute_result"
    }
   ],
   "source": [
    "from mypackage import module1, module2\n",
    "\n",
    "module1.add(2,3)\n",
    "module2.multiplication(2,3)\n",
    "\n"
   ]
  }
 ],
 "metadata": {
  "kernelspec": {
   "display_name": "venv",
   "language": "python",
   "name": "python3"
  },
  "language_info": {
   "codemirror_mode": {
    "name": "ipython",
    "version": 3
   },
   "file_extension": ".py",
   "mimetype": "text/x-python",
   "name": "python",
   "nbconvert_exporter": "python",
   "pygments_lexer": "ipython3",
   "version": "3.12.0"
  }
 },
 "nbformat": 4,
 "nbformat_minor": 5
}
