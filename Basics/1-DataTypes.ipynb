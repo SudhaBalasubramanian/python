{
 "cells": [
  {
   "cell_type": "markdown",
   "id": "803caea0",
   "metadata": {},
   "source": [
    "1. Check if a number is positive, negative or zero"
   ]
  },
  {
   "cell_type": "code",
   "execution_count": 5,
   "id": "94a2b11e",
   "metadata": {},
   "outputs": [
    {
     "name": "stdout",
     "output_type": "stream",
     "text": [
      "0  is zero\n"
     ]
    }
   ],
   "source": [
    "num = int(input(\"Enter a number\"))\n",
    "\n",
    "if num > 0:\n",
    "    print(num, \" is positive\")\n",
    "elif num < 0:\n",
    "    print(num, \" is negative\")\n",
    "else:\n",
    "    print(num, \" is zero\")\n"
   ]
  },
  {
   "cell_type": "markdown",
   "id": "31041281",
   "metadata": {},
   "source": [
    "2. Find the largest of three numbers"
   ]
  },
  {
   "cell_type": "code",
   "execution_count": 8,
   "id": "4c9ba6e3",
   "metadata": {},
   "outputs": [
    {
     "name": "stdout",
     "output_type": "stream",
     "text": [
      "8  is the largest\n"
     ]
    }
   ],
   "source": [
    "num1 = int(input(\"Enter number1\"))\n",
    "num2 = int(input(\"Enter number2\"))\n",
    "num3 = int(input(\"Enter number3\"))\n",
    "\n",
    "if num1 > num2 & num1 > num3:\n",
    "    print(num1, \" is the largest\")\n",
    "elif num2 > num3:\n",
    "    print(num2, \" is the largest\")\n",
    "else:\n",
    "    print(num3, \" is the largest\")\n"
   ]
  },
  {
   "cell_type": "markdown",
   "id": "f4ef2594",
   "metadata": {},
   "source": [
    "3. Find Factorial of a number"
   ]
  },
  {
   "cell_type": "code",
   "execution_count": 12,
   "id": "81efb317",
   "metadata": {},
   "outputs": [
    {
     "name": "stdout",
     "output_type": "stream",
     "text": [
      "factorial of 5 is 120\n"
     ]
    }
   ],
   "source": [
    "num = int(input(\"Enter a number to find factorial\"))\n",
    "print(f\"factorial of {num} is {factorial(num)}\")\n",
    "\n",
    "def factorial(n):\n",
    "    if n == 0:\n",
    "        return 1\n",
    "    else:\n",
    "       return n * factorial(n-1)\n"
   ]
  },
  {
   "cell_type": "markdown",
   "id": "6d9c74b6",
   "metadata": {},
   "source": [
    "4. Reverse a String"
   ]
  },
  {
   "cell_type": "code",
   "execution_count": 13,
   "id": "57f5bd4c",
   "metadata": {},
   "outputs": [
    {
     "name": "stdout",
     "output_type": "stream",
     "text": [
      "ahdus\n"
     ]
    }
   ],
   "source": [
    "str = input(\"Enter a String\")\n",
    "\n",
    "rev_str = str[::-1]\n",
    "\n",
    "print(rev_str)"
   ]
  }
 ],
 "metadata": {
  "kernelspec": {
   "display_name": "Python 3",
   "language": "python",
   "name": "python3"
  },
  "language_info": {
   "codemirror_mode": {
    "name": "ipython",
    "version": 3
   },
   "file_extension": ".py",
   "mimetype": "text/x-python",
   "name": "python",
   "nbconvert_exporter": "python",
   "pygments_lexer": "ipython3",
   "version": "3.12.0"
  }
 },
 "nbformat": 4,
 "nbformat_minor": 5
}
