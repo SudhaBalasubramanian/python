{
 "cells": [
  {
   "cell_type": "markdown",
   "id": "835498ad",
   "metadata": {},
   "source": [
    "Create a list of the first 20 positive integers. Print the list. Print the first, middle, and last elements of the list "
   ]
  },
  {
   "cell_type": "code",
   "execution_count": 8,
   "id": "aece9e2c",
   "metadata": {},
   "outputs": [
    {
     "name": "stdout",
     "output_type": "stream",
     "text": [
      "[1, 2, 3, 4, 5, 6, 7, 8, 9, 10, 11, 12, 13, 14, 15, 16, 17, 18, 19, 20]\n",
      "First element 1\n",
      "Middle element 11\n",
      "Last element 20\n"
     ]
    }
   ],
   "source": [
    "lst = list(range(1,21))\n",
    "print(lst)\n",
    "\n",
    "print(\"First element\", lst[0])\n",
    "print(\"Middle element\", lst[(len(lst)//2)])\n",
    "print(\"Last element\", lst[-1])"
   ]
  },
  {
   "cell_type": "markdown",
   "id": "9adabe65",
   "metadata": {},
   "source": [
    "Print the first five elements, the last five elements, and the elements from index 5 to 15 of the above list"
   ]
  },
  {
   "cell_type": "code",
   "execution_count": 14,
   "id": "b270ecc3",
   "metadata": {},
   "outputs": [
    {
     "name": "stdout",
     "output_type": "stream",
     "text": [
      "First 5 elements  [1, 2, 3, 4, 5]\n",
      "Last 5 elements  [16, 17, 18, 19, 20]\n",
      "elements from index 5 to 15 [6, 7, 8, 9, 10, 11, 12, 13, 14, 15, 16]\n"
     ]
    }
   ],
   "source": [
    "print(\"First 5 elements \", lst[:5])\n",
    "print(\"Last 5 elements \", lst[-5:])\n",
    "print(\"elements from index 5 to 15\", lst[5:16])"
   ]
  },
  {
   "cell_type": "markdown",
   "id": "b821a7b4",
   "metadata": {},
   "source": [
    "Create a new list containing the squares of the first 10 positive integers using a list comprehension. Print the new list."
   ]
  },
  {
   "cell_type": "code",
   "execution_count": 15,
   "id": "4d1e12cc",
   "metadata": {},
   "outputs": [
    {
     "name": "stdout",
     "output_type": "stream",
     "text": [
      "[1, 4, 9, 16, 25, 36, 49, 64, 81]\n"
     ]
    }
   ],
   "source": [
    "sqaured_list = [x**2 for x in range(1,10)]\n",
    "print(sqaured_list)"
   ]
  },
  {
   "cell_type": "markdown",
   "id": "29b7f142",
   "metadata": {},
   "source": [
    "Create a new list containing only the even numbers from the list using a list comprehension. Print the new list."
   ]
  },
  {
   "cell_type": "code",
   "execution_count": 17,
   "id": "1ef4ac7c",
   "metadata": {},
   "outputs": [
    {
     "name": "stdout",
     "output_type": "stream",
     "text": [
      "[4, 16, 36, 64]\n"
     ]
    }
   ],
   "source": [
    "even_list = [x for x in sqaured_list if x%2 ==0]\n",
    "print(even_list)"
   ]
  }
 ],
 "metadata": {
  "kernelspec": {
   "display_name": "Python 3",
   "language": "python",
   "name": "python3"
  },
  "language_info": {
   "codemirror_mode": {
    "name": "ipython",
    "version": 3
   },
   "file_extension": ".py",
   "mimetype": "text/x-python",
   "name": "python",
   "nbconvert_exporter": "python",
   "pygments_lexer": "ipython3",
   "version": "3.12.0"
  }
 },
 "nbformat": 4,
 "nbformat_minor": 5
}
