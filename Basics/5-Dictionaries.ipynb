{
 "cells": [
  {
   "cell_type": "markdown",
   "id": "aec86b1d",
   "metadata": {},
   "source": [
    "Create a dictionary with the first 10 positive integers as keys and their squares as values. Print the dictionary."
   ]
  },
  {
   "cell_type": "code",
   "execution_count": 5,
   "id": "f5274471",
   "metadata": {},
   "outputs": [
    {
     "name": "stdout",
     "output_type": "stream",
     "text": [
      "{1: 1, 2: 4, 3: 9, 4: 16, 5: 25, 6: 36, 7: 49, 8: 64, 9: 81, 10: 100}\n"
     ]
    }
   ],
   "source": [
    "dictionary = {x: x**2 for x in range(1, 11)}\n",
    "print(dictionary)"
   ]
  },
  {
   "cell_type": "markdown",
   "id": "35d875dd",
   "metadata": {},
   "source": [
    "Print the value of the key 5 and the keys of the dictionary created above"
   ]
  },
  {
   "cell_type": "code",
   "execution_count": 6,
   "id": "60e0d4a9",
   "metadata": {},
   "outputs": [
    {
     "name": "stdout",
     "output_type": "stream",
     "text": [
      "value of key 5 is 25\n",
      "keys in the dictionary dict_keys([1, 2, 3, 4, 5, 6, 7, 8, 9, 10])\n"
     ]
    }
   ],
   "source": [
    "val = dictionary.get(5)\n",
    "print(f\"value of key 5 is {val}\")\n",
    "print(f\"keys in the dictionary {dictionary.keys()}\")"
   ]
  },
  {
   "cell_type": "markdown",
   "id": "7cf74b74",
   "metadata": {},
   "source": [
    "Add a new key-value pair (11, 121) to the dictionary created in Assignment 1 and then remove the key-value pair with key 1. Print the modified dictionary."
   ]
  },
  {
   "cell_type": "code",
   "execution_count": 7,
   "id": "24d27bc1",
   "metadata": {},
   "outputs": [
    {
     "name": "stdout",
     "output_type": "stream",
     "text": [
      "new dictionary {1: 1, 2: 4, 3: 9, 4: 16, 5: 25, 6: 36, 7: 49, 8: 64, 9: 81, 10: 100, 11: 121}\n",
      "{2: 4, 3: 9, 4: 16, 5: 25, 6: 36, 7: 49, 8: 64, 9: 81, 10: 100, 11: 121}\n"
     ]
    }
   ],
   "source": [
    "dictionary[11] = 121\n",
    "print(f\"new dictionary {dictionary}\")\n",
    "\n",
    "dictionary.pop(1)\n",
    "print(dictionary)"
   ]
  },
  {
   "cell_type": "markdown",
   "id": "e425222f",
   "metadata": {},
   "source": [
    "Iterate over the dictionary created above and print each key-value pair."
   ]
  },
  {
   "cell_type": "code",
   "execution_count": 8,
   "id": "74c52927",
   "metadata": {},
   "outputs": [
    {
     "name": "stdout",
     "output_type": "stream",
     "text": [
      "Key: 2, Value: 4\n",
      "Key: 3, Value: 9\n",
      "Key: 4, Value: 16\n",
      "Key: 5, Value: 25\n",
      "Key: 6, Value: 36\n",
      "Key: 7, Value: 49\n",
      "Key: 8, Value: 64\n",
      "Key: 9, Value: 81\n",
      "Key: 10, Value: 100\n",
      "Key: 11, Value: 121\n"
     ]
    }
   ],
   "source": [
    "for key,value in dictionary.items():\n",
    "    print(f\"Key: {key}, Value: {value}\")"
   ]
  },
  {
   "cell_type": "markdown",
   "id": "5c04bc6b",
   "metadata": {},
   "source": [
    "Create a new dictionary containing the cubes of the first 10 positive integers using a dictionary comprehension. Print the new dictionary."
   ]
  },
  {
   "cell_type": "code",
   "execution_count": 12,
   "id": "73a98238",
   "metadata": {},
   "outputs": [
    {
     "name": "stdout",
     "output_type": "stream",
     "text": [
      "{1: 1, 2: 8, 3: 27, 4: 64, 5: 125, 6: 216, 7: 343, 8: 512, 9: 729, 10: 1000}\n"
     ]
    }
   ],
   "source": [
    "cube_result = {y: y**3 for y in range(1,11)}\n",
    "print(cube_result)"
   ]
  },
  {
   "cell_type": "markdown",
   "id": "84ab4e25",
   "metadata": {},
   "source": [
    "Create two dictionaries: one with keys as the first 5 positive integers and values as their squares, and another with keys as the next 5 positive integers and values as their squares. Merge these dictionaries into a single dictionary and print it."
   ]
  },
  {
   "cell_type": "code",
   "execution_count": 14,
   "id": "4865e4a1",
   "metadata": {},
   "outputs": [
    {
     "name": "stdout",
     "output_type": "stream",
     "text": [
      "{6: 36, 7: 49, 8: 64, 9: 81, 10: 100, 1: 1, 2: 4, 3: 9, 4: 16, 5: 25}\n"
     ]
    }
   ],
   "source": [
    "dict1 = {x:x**2 for x in range(1,6)}\n",
    "dict2 = {x:x**2 for x in range(6,11)}\n",
    "\n",
    "dict2.update(dict1)\n",
    "print(dict2)"
   ]
  },
  {
   "cell_type": "markdown",
   "id": "cff018d1",
   "metadata": {},
   "source": [
    "Create a nested dictionary representing a student with keys 'name', 'age', 'grades', where 'grades' is another dictionary with keys 'math', 'science', and 'english'. Print the nested dictionary."
   ]
  },
  {
   "cell_type": "code",
   "execution_count": 16,
   "id": "ebfacbae",
   "metadata": {},
   "outputs": [
    {
     "name": "stdout",
     "output_type": "stream",
     "text": [
      "{'name': 'sudha', 'age': 35, 'grades': {'math': 'A', 'science': 'A', 'english': 'A'}}\n"
     ]
    }
   ],
   "source": [
    "student = {\n",
    "    'name': 'sudha',\n",
    "    'age': 35,\n",
    "    'grades': {\n",
    "        'math': 'A',\n",
    "        'science': 'A',\n",
    "        'english': 'A'\n",
    "    }\n",
    "}\n",
    "\n",
    "print(student)"
   ]
  },
  {
   "cell_type": "markdown",
   "id": "6c7a721a",
   "metadata": {},
   "source": [
    "\n",
    "Create a dictionary where the keys are the first 5 positive integers and the values are lists containing the first 5 multiples of the key. Print the dictionary."
   ]
  },
  {
   "cell_type": "code",
   "execution_count": 17,
   "id": "889a2cd6",
   "metadata": {},
   "outputs": [
    {
     "name": "stdout",
     "output_type": "stream",
     "text": [
      "{1: [1, 2, 3, 4, 5], 2: [2, 4, 6, 8, 10], 3: [3, 6, 9, 12, 15], 4: [4, 8, 12, 16, 20], 5: [5, 10, 15, 20, 25]}\n"
     ]
    }
   ],
   "source": [
    "res_dict = {i: [i*j for j in range(1,6)] for i in range(1,6)}\n",
    "print(res_dict)"
   ]
  },
  {
   "cell_type": "markdown",
   "id": "6339f361",
   "metadata": {},
   "source": [
    "Create a dictionary where the keys are the first 5 positive integers and the values are tuples containing the key and its square. Print the dictionary."
   ]
  },
  {
   "cell_type": "code",
   "execution_count": 19,
   "id": "94c8845e",
   "metadata": {},
   "outputs": [
    {
     "name": "stdout",
     "output_type": "stream",
     "text": [
      "{1: (1, 1), 2: (2, 4), 3: (3, 9), 4: (4, 16), 5: (5, 25)}\n"
     ]
    }
   ],
   "source": [
    "dict = {i: (i, i**2) for i in range(1,6)}\n",
    "print(dict)"
   ]
  },
  {
   "cell_type": "markdown",
   "id": "1c275396",
   "metadata": {},
   "source": [
    "Create a dictionary with the first 5 positive integers as keys and their squares as values. Convert the dictionary to a list of tuples and print it."
   ]
  },
  {
   "cell_type": "code",
   "execution_count": 20,
   "id": "cc2854ba",
   "metadata": {},
   "outputs": [
    {
     "name": "stdout",
     "output_type": "stream",
     "text": [
      "[(1, 1), (2, 4), (3, 9), (4, 16), (5, 25)]\n"
     ]
    }
   ],
   "source": [
    "dict = {i: i**2 for i in range(1,6)}\n",
    "list_of_tuples = list(dict.items())\n",
    "print(list_of_tuples)"
   ]
  }
 ],
 "metadata": {
  "kernelspec": {
   "display_name": "Python 3",
   "language": "python",
   "name": "python3"
  },
  "language_info": {
   "codemirror_mode": {
    "name": "ipython",
    "version": 3
   },
   "file_extension": ".py",
   "mimetype": "text/x-python",
   "name": "python",
   "nbconvert_exporter": "python",
   "pygments_lexer": "ipython3",
   "version": "3.12.0"
  }
 },
 "nbformat": 4,
 "nbformat_minor": 5
}
