{
 "cells": [
  {
   "cell_type": "markdown",
   "id": "19ee374c",
   "metadata": {},
   "source": [
    "1. Write a function that takes two integers as input and returns their division. Use try, except, and finally blocks to handle division by zero and print an appropriate message."
   ]
  },
  {
   "cell_type": "code",
   "execution_count": 14,
   "id": "4cb5e9df",
   "metadata": {},
   "outputs": [
    {
     "name": "stdout",
     "output_type": "stream",
     "text": [
      "Execution done\n",
      "5.0\n",
      "Error: division by zero\n",
      "Execution done\n",
      "None\n"
     ]
    }
   ],
   "source": [
    "def divide_num(a,b):\n",
    "    try:\n",
    "        result = a / b\n",
    "    except ZeroDivisionError as e:\n",
    "        print(f\"Error: {e}\")\n",
    "        result = None\n",
    "    finally:\n",
    "        print(\"Execution done\")\n",
    "    return result\n",
    "\n",
    "print(divide_num(10, 2))\n",
    "print(divide_num(10, 0))"
   ]
  },
  {
   "cell_type": "markdown",
   "id": "f809773e",
   "metadata": {},
   "source": [
    "2. Write a function that reads the contents of a file named `data.txt`. Use try, except, and finally blocks to handle file not found errors and ensure the file is properly closed."
   ]
  },
  {
   "cell_type": "code",
   "execution_count": 12,
   "id": "4e78d7c0",
   "metadata": {},
   "outputs": [
    {
     "name": "stdout",
     "output_type": "stream",
     "text": [
      "Error: [Errno 2] No such file or directory: 'data.txt'\n",
      "None\n"
     ]
    }
   ],
   "source": [
    "def read_file(filename):\n",
    "    try:\n",
    "        file = open(filename, 'r')\n",
    "        content = file.read()\n",
    "        return content\n",
    "    except FileNotFoundError as e:\n",
    "        print(f\"Error: {e}\")\n",
    "    finally:\n",
    "        try:\n",
    "            file.close()\n",
    "        except NameError:\n",
    "            pass\n",
    "      \n",
    "\n",
    "print(read_file('data.txt'))"
   ]
  },
  {
   "cell_type": "markdown",
   "id": "9049a865",
   "metadata": {},
   "source": [
    "3. Write a function that takes a list of integers and returns their sum. Use try, except, and finally blocks to handle TypeError if a non-integer value is encountered and print an appropriate message."
   ]
  },
  {
   "cell_type": "code",
   "execution_count": 15,
   "id": "d5be18a7",
   "metadata": {},
   "outputs": [
    {
     "name": "stdout",
     "output_type": "stream",
     "text": [
      "Error: unsupported operand type(s) for +=: 'int' and 'str'\n",
      "Exception complete\n",
      "None\n",
      "Exception complete\n",
      "10\n"
     ]
    }
   ],
   "source": [
    "def sum_list(lst):\n",
    "    sum = 0\n",
    "    try:\n",
    "        for item in lst:\n",
    "            sum += item\n",
    "    except TypeError as e:\n",
    "        print(f\"Error: {e}\")\n",
    "        sum = None\n",
    "    finally:\n",
    "        print(\"Exception complete\")\n",
    "    return sum\n",
    "\n",
    "print(sum_list([2,3,4,'a']))\n",
    "print(sum_list([5,4,1]))"
   ]
  },
  {
   "cell_type": "markdown",
   "id": "447c1dab",
   "metadata": {},
   "source": [
    "4. Write a function that prompts the user to enter an integer. Use try, except, and finally blocks to handle ValueError if the user enters a non-integer value and print an appropriate message."
   ]
  },
  {
   "cell_type": "code",
   "execution_count": 17,
   "id": "f66db6fe",
   "metadata": {},
   "outputs": [
    {
     "name": "stdout",
     "output_type": "stream",
     "text": [
      "Error: invalid literal for int() with base 10: 'a'\n",
      "Execution Complete\n",
      "None\n"
     ]
    }
   ],
   "source": [
    "def get_int():\n",
    "    try:\n",
    "        val = int(input(\"Enter an integer: \"))\n",
    "    except ValueError as e:\n",
    "        print(f\"Error: {e}\")\n",
    "        val = None\n",
    "    finally:\n",
    "        print(\"Execution Complete\")\n",
    "    return val\n",
    "\n",
    "print(get_int())"
   ]
  },
  {
   "cell_type": "markdown",
   "id": "350c8271",
   "metadata": {},
   "source": [
    "5. Write a function that takes a dictionary and a key as input and returns the value associated with the key. Use try, except, and finally blocks to handle KeyError if the key is not found in the dictionary and print an appropriate message."
   ]
  },
  {
   "cell_type": "code",
   "execution_count": 20,
   "id": "d450b1b5",
   "metadata": {},
   "outputs": [
    {
     "name": "stdout",
     "output_type": "stream",
     "text": [
      "Execution complete\n",
      "2\n",
      "Error: 'c'\n",
      "Execution complete\n",
      "None\n"
     ]
    }
   ],
   "source": [
    "def get_dict_value(d, key):\n",
    "    try:\n",
    "        val = d[key]\n",
    "    except KeyError as e:\n",
    "        print(f\"Error: {e}\")\n",
    "        val = None\n",
    "    finally:\n",
    "        print(\"Execution complete\")\n",
    "    return val\n",
    "\n",
    "d = {'a':1, 'b':2}\n",
    "print(get_dict_value(d, 'b'))\n",
    "print(get_dict_value(d, 'c'))"
   ]
  },
  {
   "cell_type": "markdown",
   "id": "a6acf72f",
   "metadata": {},
   "source": [
    "6. Write a function that performs nested exception handling. It should first attempt to convert a string to an integer, and then attempt to divide by that integer. Use nested try, except, and finally blocks to handle ValueError and ZeroDivisionError and print appropriate messages."
   ]
  },
  {
   "cell_type": "code",
   "execution_count": 21,
   "id": "7d3602fb",
   "metadata": {},
   "outputs": [
    {
     "name": "stdout",
     "output_type": "stream",
     "text": [
      "String to Int Converstion complete\n",
      "Error: division by zero\n",
      "Division complete\n",
      "All Execution complete\n",
      "None\n",
      "Error: invalid literal for int() with base 10: 'b'\n",
      "String to Int Converstion complete\n",
      "All Execution complete\n",
      "None\n",
      "String to Int Converstion complete\n",
      "Division complete\n",
      "All Execution complete\n",
      "2.0\n"
     ]
    }
   ],
   "source": [
    "def nested_exception_handling(n):\n",
    "    try:\n",
    "        try:\n",
    "            num = int(n)\n",
    "        except ValueError as e:\n",
    "            print(f\"Error: {e}\")\n",
    "            num = None\n",
    "        finally:\n",
    "            print(\"String to Int Converstion complete\")\n",
    "        if num is not None:\n",
    "            try:\n",
    "                result = 10/num\n",
    "            except ZeroDivisionError as e:\n",
    "                print(f\"Error: {e}\")\n",
    "                result = None\n",
    "            finally:\n",
    "                print(\"Division complete\")\n",
    "            return result\n",
    "    finally:\n",
    "        print(\"All Execution complete\")\n",
    "\n",
    "print(nested_exception_handling('0'))\n",
    "print(nested_exception_handling('b'))\n",
    "print(nested_exception_handling('5'))\n",
    "            "
   ]
  },
  {
   "cell_type": "markdown",
   "id": "49430189",
   "metadata": {},
   "source": [
    "7.Write a function that attempts to open a URL and read its contents. Use try, except, and finally blocks to handle network-related errors and print an appropriate message."
   ]
  },
  {
   "cell_type": "code",
   "execution_count": 24,
   "id": "3690e513",
   "metadata": {},
   "outputs": [
    {
     "name": "stdout",
     "output_type": "stream",
     "text": [
      "Execution complete\n",
      "{\n",
      "  \"userId\": 1,\n",
      "  \"id\": 1,\n",
      "  \"title\": \"sunt aut facere repellat provident occaecati excepturi optio reprehenderit\",\n",
      "  \"body\": \"quia et suscipit\\nsuscipit recusandae consequuntur expedita et cum\\nreprehenderit molestiae ut ut quas totam\\nnostrum rerum est autem sunt rem eveniet architecto\"\n",
      "}\n",
      "Error: HTTPSConnectionPool(host='nonexistent.url', port=443): Max retries exceeded with url: / (Caused by NameResolutionError(\"<urllib3.connection.HTTPSConnection object at 0x00000176FF731460>: Failed to resolve 'nonexistent.url' ([Errno 11001] getaddrinfo failed)\"))\n",
      "Execution complete\n",
      "None\n"
     ]
    }
   ],
   "source": [
    "import requests\n",
    "\n",
    "def read_url(url):\n",
    "    try:\n",
    "        response = requests.get(url)\n",
    "        response.raise_for_status()\n",
    "        return response.text\n",
    "    except requests.RequestException as e:\n",
    "        print(f\"Error: {e}\")\n",
    "        return None\n",
    "    finally:\n",
    "        print(\"Execution complete\")\n",
    "\n",
    "print(read_url('https://jsonplaceholder.typicode.com/posts/1'))\n",
    "print(read_url('https://nonexistent.url'))"
   ]
  }
 ],
 "metadata": {
  "kernelspec": {
   "display_name": "Python 3",
   "language": "python",
   "name": "python3"
  },
  "language_info": {
   "codemirror_mode": {
    "name": "ipython",
    "version": 3
   },
   "file_extension": ".py",
   "mimetype": "text/x-python",
   "name": "python",
   "nbconvert_exporter": "python",
   "pygments_lexer": "ipython3",
   "version": "3.12.0"
  }
 },
 "nbformat": 4,
 "nbformat_minor": 5
}
