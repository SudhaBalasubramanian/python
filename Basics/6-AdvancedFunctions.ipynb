{
 "cells": [
  {
   "cell_type": "markdown",
   "id": "1f26ae82",
   "metadata": {},
   "source": [
    "Define a function that takes two arguments, a and b, where b is a dictionary with a default value of an empty dictionary. The function should add a new key-value pair to the dictionary and return it. Test the function with different inputs."
   ]
  },
  {
   "cell_type": "code",
   "execution_count": 2,
   "id": "b25a9dbc",
   "metadata": {},
   "outputs": [
    {
     "name": "stdout",
     "output_type": "stream",
     "text": [
      "{2: 4}\n",
      "{1: 1, 3: 9}\n"
     ]
    }
   ],
   "source": [
    "def add_to_dict(a,b=None):\n",
    "    if b is None:\n",
    "        b= {}\n",
    "    b[a] = a**2\n",
    "    return b\n",
    "\n",
    "print(add_to_dict(2))\n",
    "print(add_to_dict(3,{1:1}))"
   ]
  },
  {
   "cell_type": "markdown",
   "id": "b0a2dd05",
   "metadata": {},
   "source": [
    "Define a function that takes a variable number of keyword arguments and returns a dictionary containing only those key-value pairs where the value is an integer. Test the function with different inputs."
   ]
  },
  {
   "cell_type": "code",
   "execution_count": 3,
   "id": "cc6470c1",
   "metadata": {},
   "outputs": [
    {
     "name": "stdout",
     "output_type": "stream",
     "text": [
      "{'a': 1}\n",
      "{'x': 10, 'z': 20}\n"
     ]
    }
   ],
   "source": [
    "def filter_integers(**kwargs):\n",
    "    return {k: v for k,v in kwargs.items() if isinstance(v, int)}\n",
    "\n",
    "print(filter_integers(a=1, b='two', c=4.5))\n",
    "print(filter_integers(x=10, y='yes', z=20)) "
   ]
  },
  {
   "cell_type": "markdown",
   "id": "bee5b1db",
   "metadata": {},
   "source": [
    "lambda function"
   ]
  },
  {
   "cell_type": "code",
   "execution_count": 5,
   "id": "2990f668",
   "metadata": {},
   "outputs": [
    {
     "name": "stdout",
     "output_type": "stream",
     "text": [
      "False\n"
     ]
    }
   ],
   "source": [
    "even_func = lambda num:num%2==0\n",
    "print(even_func(15))"
   ]
  },
  {
   "cell_type": "markdown",
   "id": "98c2ac85",
   "metadata": {},
   "source": [
    "Map function"
   ]
  },
  {
   "cell_type": "code",
   "execution_count": 9,
   "id": "87fb154f",
   "metadata": {},
   "outputs": [
    {
     "data": {
      "text/plain": [
       "[1, 4, 9, 16, 25]"
      ]
     },
     "execution_count": 9,
     "metadata": {},
     "output_type": "execute_result"
    }
   ],
   "source": [
    "def square_func(x):\n",
    "    return x*x\n",
    "\n",
    "numbers = [1,2,3,4,5]\n",
    "list(map(square_func, numbers))"
   ]
  },
  {
   "cell_type": "markdown",
   "id": "835c173f",
   "metadata": {},
   "source": [
    "Map with lambda function"
   ]
  },
  {
   "cell_type": "code",
   "execution_count": 10,
   "id": "bd38a4d0",
   "metadata": {},
   "outputs": [
    {
     "data": {
      "text/plain": [
       "[1, 4, 9, 16, 25, 36]"
      ]
     },
     "execution_count": 10,
     "metadata": {},
     "output_type": "execute_result"
    }
   ],
   "source": [
    "numbers = [1,2,3,4,5,6]\n",
    "list(map(lambda x: x*x, numbers))"
   ]
  },
  {
   "cell_type": "markdown",
   "id": "a5fa7677",
   "metadata": {},
   "source": [
    "Filter with lambda function"
   ]
  },
  {
   "cell_type": "code",
   "execution_count": 11,
   "id": "e71ce600",
   "metadata": {},
   "outputs": [
    {
     "data": {
      "text/plain": [
       "[8, 6, 4, 4, 10]"
      ]
     },
     "execution_count": 11,
     "metadata": {},
     "output_type": "execute_result"
    }
   ],
   "source": [
    "numbers = [8,6,7,4,23,4,5,10]\n",
    "\n",
    "list(filter(lambda x:x%2==0, numbers))"
   ]
  }
 ],
 "metadata": {
  "kernelspec": {
   "display_name": "Python 3",
   "language": "python",
   "name": "python3"
  },
  "language_info": {
   "codemirror_mode": {
    "name": "ipython",
    "version": 3
   },
   "file_extension": ".py",
   "mimetype": "text/x-python",
   "name": "python",
   "nbconvert_exporter": "python",
   "pygments_lexer": "ipython3",
   "version": "3.12.0"
  }
 },
 "nbformat": 4,
 "nbformat_minor": 5
}
